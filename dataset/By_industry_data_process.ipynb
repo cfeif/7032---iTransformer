{
 "cells": [
  {
   "cell_type": "code",
   "execution_count": null,
   "metadata": {},
   "outputs": [],
   "source": [
    "import pandas as pd\n",
    "import numpy as np"
   ]
  },
  {
   "cell_type": "code",
   "execution_count": null,
   "metadata": {},
   "outputs": [],
   "source": [
    "pick_data = pd.read_csv('data.csv')\n",
    "df = pd.read_parquet('df_reponse_daily_train.parquet')\n",
    "df['industry_code'] = df.groupby('stock_id')['industry_code'].transform('last')\n",
    "pick_data.set_index('time', inplace=True)\n",
    "factor_return = pd.read_csv('factor_return.csv')\n",
    "dataf = pd.merge(pick_data, factor_return, on='time', how='left')\n",
    "dataf.set_index('time', inplace=True)\n",
    "dataf.dropna(inplace=True)"
   ]
  },
  {
   "cell_type": "code",
   "execution_count": null,
   "metadata": {},
   "outputs": [],
   "source": [
    "data_all = dataf.copy()\n",
    "\n",
    "data_all.reset_index(inplace=True)\n",
    "name = list(data_all.columns)[3]\n",
    "\n",
    "data_1 = data_all.rename(columns={'time':'date',name:'OT'})\n",
    "data_1.set_index('date', inplace=True)\n",
    "data_train = data_1.iloc[:int(0.9*len(data_all))]\n",
    "data_test = data_1.iloc[int(0.9*len(data_all)):]\n",
    "\n",
    "data_train.to_csv('data_train_all.csv')\n",
    "data_test.to_csv('data_test_all.csv')\n",
    "\n",
    "print(data_train.shape)\n",
    "print(data_test.shape)"
   ]
  },
  {
   "cell_type": "code",
   "execution_count": null,
   "metadata": {},
   "outputs": [],
   "source": [
    "# by industry\n",
    "\n",
    "ind = 22\n",
    "\n",
    "df_se = df[df['industry_code'] == ind]\n",
    "# cut all columns started with stock, but leave those numbers which after stock_ equals to df_7's stock_id in dataf\n",
    "\n",
    "stock_id = df_se['stock_id'].unique()\n",
    "stock_id = [str(i) for i in stock_id]\n",
    "stock_id = ['stock_'+i for i in stock_id]\n",
    "stock_id = [i for i in stock_id if i in dataf.columns]\n",
    "\n",
    "# merge stock_id and factor_return.columns\n",
    "for i in list(factor_return.columns)[1:]:\n",
    "    stock_id.append(i)\n",
    "\n",
    "data_ = dataf[stock_id]\n",
    "# data_ = data_[list(data_.columns)[:-156]]\n",
    "data_.reset_index(inplace=True)\n",
    "name = list(data_.columns)[3]\n",
    "data_1 = data_.rename(columns={'time':'date',name:'OT'})\n",
    "data_1.set_index('date', inplace=True)\n",
    "data_train = data_1.iloc[:int(0.9*len(data_))]\n",
    "data_test = data_1.iloc[int(0.9*len(data_)):]\n",
    "\n",
    "data_train.to_csv('data_train_ind'+str(ind)+'.csv')\n",
    "data_test.to_csv('data_test_ind'+str(ind)+'.csv')\n",
    "\n",
    "print(data_train.shape)\n",
    "print(data_test.shape)\n",
    "data_train"
   ]
  }
 ],
 "metadata": {
  "language_info": {
   "name": "python"
  }
 },
 "nbformat": 4,
 "nbformat_minor": 2
}

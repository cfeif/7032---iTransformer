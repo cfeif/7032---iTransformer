{
 "cells": [
  {
   "cell_type": "code",
   "execution_count": null,
   "metadata": {},
   "outputs": [],
   "source": [
    "import pandas as pd\n",
    "import matplotlib.pyplot as plt\n",
    "import numpy as np\n",
    "from random import randint\n",
    "from sklearn.impute import KNNImputer"
   ]
  },
  {
   "cell_type": "code",
   "execution_count": null,
   "metadata": {},
   "outputs": [],
   "source": [
    "df = pd.read_parquet('df_reponse_daily_train.parquet')\n",
    "df = df.reset_index()\n",
    "df = df[df['time']>'2015-01-01']"
   ]
  },
  {
   "cell_type": "code",
   "execution_count": null,
   "metadata": {},
   "outputs": [],
   "source": [
    "df.columns"
   ]
  },
  {
   "cell_type": "code",
   "execution_count": null,
   "metadata": {},
   "outputs": [],
   "source": [
    "df_s = df[['time','stock_id','price']]\n",
    "df_series = df_s.pivot(index='time', columns='stock_id')\n",
    "\n",
    "stockids = ['stock_'+ str(id) for id in df_series.reset_index()['price'].columns]\n",
    "df_clean = df_series.droplevel('stock_id', axis=1)\n",
    "df_clean.columns = stockids\n",
    "\n",
    "df_clean.head()"
   ]
  },
  {
   "cell_type": "code",
   "execution_count": null,
   "metadata": {},
   "outputs": [],
   "source": [
    "#statistic for non-null rows\n",
    "df_clean.count().describe()"
   ]
  },
  {
   "cell_type": "code",
   "execution_count": null,
   "metadata": {},
   "outputs": [],
   "source": [
    "#select only stocks that have no more than n consecutive days of missing data\n",
    "def filter_consecutive_missing(df,threshold):\n",
    "    df_nan_count = df.isnull().rolling(window=threshold, min_periods=1).sum()\n",
    "    df_filtered = df.loc[:, (df_nan_count < threshold).all()]\n",
    "    \n",
    "    return df_filtered\n",
    "\n",
    "#select only stocks that have more than n days data\n",
    "def filter_total_missing(df,threshold):\n",
    "    df_filtered = df.loc[:, df.count() > threshold]\n",
    "    \n",
    "    return df_filtered\n",
    "\n",
    "def gen_random_columns(df):\n",
    "    rand_indices = np.random.choice(len(df.columns), size=4, replace=False)\n",
    "    rand_cols = df.columns[rand_indices]\n",
    "\n",
    "    return rand_cols\n",
    "\n",
    "#generate the plots random time series\n",
    "def plot_random_time_series(df, rand_cols):\n",
    "    fig, axs = plt.subplots(2, 2, figsize=(15, 8))\n",
    "\n",
    "    for i, column_name in enumerate(rand_cols):\n",
    "        row = i // 2\n",
    "        col = i % 2\n",
    "        rand_series = df[column_name].fillna(0.000001)\n",
    "        axs[row, col].scatter(rand_series.index, rand_series, marker='o', s=10, linestyle='-', label='stock price')\n",
    "        axs[row, col].scatter(rand_series[rand_series == 0.000001].index, rand_series[rand_series == 0.000001], marker='x', s=10, color='red', label='Missing')  # Highlight values equal to 0.000001 with red\n",
    "        axs[row, col].set_xlabel('Time')\n",
    "        axs[row, col].set_ylabel('Price')\n",
    "        axs[row, col].set_title(f'Random Time Series - {column_name}')\n",
    "        axs[row, col].legend()\n",
    "        axs[row, col].grid(True)\n",
    "\n",
    "    plt.tight_layout()\n",
    "    plt.show()\n",
    "\n",
    "def fill_na_knn(df,k):\n",
    "    imputer = KNNImputer(n_neighbors=k)\n",
    "    \n",
    "    return pd.DataFrame(imputer.fit_transform(df), columns=df.columns)"
   ]
  },
  {
   "cell_type": "code",
   "execution_count": null,
   "metadata": {},
   "outputs": [],
   "source": [
    "#df_filtered = df_clean\n",
    "#df_filtered = filter_consecutive_missing(df_clean,30)\n",
    "df_filtered = filter_total_missing(df_filtered,710/2)\n",
    "#df_filled = fill_na_knn(df_filtered,2)\n",
    "len(df_filtered.columns)"
   ]
  },
  {
   "cell_type": "code",
   "execution_count": null,
   "metadata": {},
   "outputs": [],
   "source": [
    "cols = gen_random_columns(df_filtered)\n",
    "plot_random_time_series(df_filtered,cols)\n",
    "#plot_random_time_series(df_filled,cols)"
   ]
  },
  {
   "cell_type": "code",
   "execution_count": null,
   "metadata": {},
   "outputs": [],
   "source": [
    "# Description of Nan Values among all data\n",
    "\n",
    "data_presence = df_series.notna().astype(int)\n",
    "\n",
    "# 绘制热图来表示数据的存在\n",
    "plt.figure(figsize=(20, 8))\n",
    "plt.imshow(data_presence.T, aspect='auto', cmap='Wistia', interpolation='nearest')\n",
    "\n",
    "# 设置y轴标签为股票ID\n",
    "plt.yticks(ticks=np.arange(len(data_presence.columns)), labels=data_presence.columns)\n",
    "\n",
    "# 准备x轴标签\n",
    "# 获取每个月的第一天\n",
    "first_of_month = data_presence.index.to_series().resample('MS').min()\n",
    "# 计算日期在data_presence.index中的位置\n",
    "first_of_month_positions = [data_presence.index.get_loc(date) for date in first_of_month]\n",
    "# 准备标签\n",
    "labels = [date.strftime('%Y-%m') for date in first_of_month]\n",
    "plt.xticks(ticks=first_of_month_positions, labels=labels, rotation=90)\n",
    "\n",
    "\n",
    "# 添加color bar\n",
    "plt.colorbar()\n",
    "\n",
    "# 添加标题和轴标签\n",
    "plt.title('Price Data Presence Heatmap')\n",
    "plt.xlabel('Time')\n",
    "plt.ylabel('Stock ID')\n",
    "\n",
    "plt.show()"
   ]
  }
 ],
 "metadata": {
  "kernelspec": {
   "display_name": "iTrans",
   "language": "python",
   "name": "python3"
  },
  "language_info": {
   "codemirror_mode": {
    "name": "ipython",
    "version": 3
   },
   "file_extension": ".py",
   "mimetype": "text/x-python",
   "name": "python",
   "nbconvert_exporter": "python",
   "pygments_lexer": "ipython3",
   "version": "3.9.19"
  }
 },
 "nbformat": 4,
 "nbformat_minor": 2
}

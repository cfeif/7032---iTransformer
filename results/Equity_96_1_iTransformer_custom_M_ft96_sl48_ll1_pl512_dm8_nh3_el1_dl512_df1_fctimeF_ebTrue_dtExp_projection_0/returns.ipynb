{
 "cells": [
  {
   "cell_type": "code",
   "execution_count": 33,
   "metadata": {},
   "outputs": [],
   "source": [
    "import numpy as np\n",
    "import pandas as pd\n",
    "pred = np.load(\"pred.npy\")\n",
    "true = np.load(\"true.npy\")"
   ]
  },
  {
   "cell_type": "code",
   "execution_count": 34,
   "metadata": {},
   "outputs": [],
   "source": [
    "pre_list = np.array([arr[0][-4:] for arr in pred])\n",
    "true_list = np.array([arr[0][-4:] for arr in true])\n",
    "\n",
    "data_dict = {\n",
    "    '1': pre_list[:, -4],\n",
    "    '2': pre_list[:, -3],\n",
    "    '3': pre_list[:, -2],\n",
    "    '4': pre_list[:, -1]\n",
    "}\n",
    "\n",
    "data_dict2 = {\n",
    "    '1': true_list[:, -4],\n",
    "    '2': true_list[:, -3],\n",
    "    '3': true_list[:, -2],\n",
    "    '4': true_list[:, -1]\n",
    "}\n",
    "\n",
    "pre_df = pd.DataFrame(data_dict)\n",
    "true_df = pd.DataFrame(data_dict2)"
   ]
  },
  {
   "cell_type": "code",
   "execution_count": 38,
   "metadata": {},
   "outputs": [
    {
     "data": {
      "text/plain": [
       "0.19517499"
      ]
     },
     "execution_count": 38,
     "metadata": {},
     "output_type": "execute_result"
    }
   ],
   "source": [
    "from sklearn.metrics import mean_squared_error\n",
    "\n",
    "mse = mean_squared_error(pre_df, true_df)\n",
    "mse"
   ]
  },
  {
   "cell_type": "code",
   "execution_count": null,
   "metadata": {},
   "outputs": [],
   "source": []
  }
 ],
 "metadata": {
  "kernelspec": {
   "display_name": "iTrans",
   "language": "python",
   "name": "python3"
  },
  "language_info": {
   "codemirror_mode": {
    "name": "ipython",
    "version": 3
   },
   "file_extension": ".py",
   "mimetype": "text/x-python",
   "name": "python",
   "nbconvert_exporter": "python",
   "pygments_lexer": "ipython3",
   "version": "3.9.19"
  }
 },
 "nbformat": 4,
 "nbformat_minor": 2
}

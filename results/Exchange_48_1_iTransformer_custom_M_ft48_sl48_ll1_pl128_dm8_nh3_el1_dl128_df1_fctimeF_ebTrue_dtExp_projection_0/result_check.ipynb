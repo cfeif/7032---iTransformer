{
 "cells": [
  {
   "cell_type": "code",
   "execution_count": 30,
   "metadata": {},
   "outputs": [],
   "source": [
    "import pandas as pd\n",
    "import numpy as np\n",
    "import os\n",
    "os.chdir('c:/Users/cfeif/Documents/GitHub/7032---iTransformer/')\n",
    "from utils.metrics import metric"
   ]
  },
  {
   "cell_type": "code",
   "execution_count": 8,
   "metadata": {},
   "outputs": [],
   "source": [
    "df_true = np.load('true.npy')\n",
    "df_pred = np.load('pred.npy')"
   ]
  },
  {
   "cell_type": "code",
   "execution_count": 22,
   "metadata": {},
   "outputs": [],
   "source": [
    "df_true = pd.DataFrame([outer_list[0] for outer_list in df_true])\n",
    "df_pred = pd.DataFrame([outer_list[0] for outer_list in df_pred])"
   ]
  },
  {
   "cell_type": "code",
   "execution_count": 27,
   "metadata": {},
   "outputs": [],
   "source": [
    "true_returns = df_true.loc[:,df_true.columns[:-13]]\n",
    "pred_returns = df_pred.loc[:,df_pred.columns[:-13]]"
   ]
  },
  {
   "cell_type": "code",
   "execution_count": 33,
   "metadata": {},
   "outputs": [
    {
     "data": {
      "text/plain": [
       "0     -0.663636\n",
       "1     -0.339707\n",
       "2     -0.996239\n",
       "3     -0.514702\n",
       "4     -0.443132\n",
       "         ...   \n",
       "195   -0.339537\n",
       "196   -0.392029\n",
       "197   -0.512036\n",
       "198   -1.409501\n",
       "199    0.985169\n",
       "Name: 0, Length: 200, dtype: float32"
      ]
     },
     "execution_count": 33,
     "metadata": {},
     "output_type": "execute_result"
    }
   ],
   "source": [
    "true_returns.iloc[0]"
   ]
  },
  {
   "cell_type": "code",
   "execution_count": 34,
   "metadata": {},
   "outputs": [
    {
     "data": {
      "text/plain": [
       "(0.116677076, 0.03349693, 0.18302166, 1.2591347, 44.70731)"
      ]
     },
     "execution_count": 34,
     "metadata": {},
     "output_type": "execute_result"
    }
   ],
   "source": [
    "metric(pred_returns.iloc[0], true_returns.iloc[0])\n",
    "#MAE, MSE, RMSE, MAPE, MSPE"
   ]
  }
 ],
 "metadata": {
  "kernelspec": {
   "display_name": "iTrans",
   "language": "python",
   "name": "python3"
  },
  "language_info": {
   "codemirror_mode": {
    "name": "ipython",
    "version": 3
   },
   "file_extension": ".py",
   "mimetype": "text/x-python",
   "name": "python",
   "nbconvert_exporter": "python",
   "pygments_lexer": "ipython3",
   "version": "3.9.19"
  }
 },
 "nbformat": 4,
 "nbformat_minor": 2
}
